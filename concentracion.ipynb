{
 "cells": [
  {
   "cell_type": "markdown",
   "metadata": {},
   "source": [
    "Sacar la concentración porcentual de una solución de alcohol para desinfectar, no es tan simple, ya que hay que integrar\n",
    "la concentración en que se encuentra la solución original y eso corresponde al 100% (volumen/volumen).\n",
    "Podemos preparar una solución de alcohol al 70% a partir de alcohol al 95%, 96% y 99,9% (redondeado a 100% por problemas de tupla)."
   ]
  },
  {
   "cell_type": "code",
   "execution_count": 34,
   "metadata": {},
   "outputs": [],
   "source": [
    "# Importar librerías\n",
    "from sympy import *\n",
    "import sympy as sym\n",
    "from collections import OrderedDict\n",
    "from __future__ import division"
   ]
  },
  {
   "cell_type": "markdown",
   "metadata": {},
   "source": [
    "1) Solución al 70% a partir de alcohol de 95%:"
   ]
  },
  {
   "cell_type": "code",
   "execution_count": 42,
   "metadata": {},
   "outputs": [],
   "source": [
    "# Concentración porcentual:\n",
    "# Obtener una cantidad de solución a preparar, con cierta cantidad de alcohol al 95%\n",
    "\n",
    "def solucion(solucion_ingresar, solucion_final, solvente_2):\n",
    "\n",
    "# Alcohol de 95 grados para 1 litro (1000 ml) de solución al 70%:\n",
    "\n",
    "# Solución de 1000 ml corresponde al 100%, \n",
    "# por lo que X corresponde al 70% (X en gramos de soluto)\n",
    "\n",
    "    X = (1000 * 70)/100\n",
    "    #print(X)\n",
    "# Como 95 gramos de soluto corresponden a 100 ml de solución (de 95%), \n",
    "# entonces 700 gramos de soluto correponden a Y (ml de solución de 70%):\n",
    "\n",
    "    Y = (X * 100)/95\n",
    "    #print(Y)\n",
    "# Volumen final (mL) de 1000 en este caso = Y solución de alcohol al 95% (mL) + Z solvente (mL agua):\n",
    "# solucion_final = solucion_ingresar + Solvente_2\n",
    "#Z = 1000  - Y\n",
    "    \n",
    "# Ejemplo: Si tengo 325 ml de alcohol de 95%, para cuánta solución me alcanza?  (325 de alcohol + 116 de agua y 441 solución final)\n",
    "# Si 737 mL de alcohol de 95% corresponde a 1000 de solución total, entonces 325 mL de alcohol corresponde a Sol\n",
    "\n",
    "    solucion_final = (solucion_ingresar * 1000) / Y\n",
    "    solvente_2 = solucion_final - solucion_ingresar # solucion_final(mL) es la suma de Solución alcohol 95% \n",
    "                              # (para formar sol alcohol al 70%, mL) + Solvente_2 (agua, mL)\n",
    "    \n",
    "    print(f\"Solución final: {round(solucion_final)} mL con {solucion_ingresar} mL de alcohol al 95% y {round(solvente_2)} mL de agua\")"
   ]
  },
  {
   "cell_type": "code",
   "execution_count": 49,
   "metadata": {},
   "outputs": [
    {
     "name": "stdout",
     "output_type": "stream",
     "text": [
      "Solución final: 441 mL con 325 mL de alcohol al 95% y 116 mL de agua\n"
     ]
    }
   ],
   "source": [
    "resultado = solucion(325, \"solucion_final\", \"solvente_2\")"
   ]
  },
  {
   "cell_type": "markdown",
   "metadata": {},
   "source": [
    "2) Solución al 70% a partir de alcohol de 96%:"
   ]
  },
  {
   "cell_type": "code",
   "execution_count": 50,
   "metadata": {},
   "outputs": [],
   "source": [
    "# Concentración porcentual:\n",
    "# Obtener una cantidad de solución a preparar, con cierta cantidad de alcohol al 96%\n",
    "\n",
    "def solucion(solucion_ingresar, solucion_final, solvente_2):\n",
    "\n",
    "# Alcohol de 96 grados para 1 litro (1000 ml) de solución al 70%:\n",
    "\n",
    "# Solución de 1000 ml corresponde al 100%, \n",
    "# por lo que X corresponde al 70% (X en gramos de soluto)\n",
    "\n",
    "    X = (1000 * 70)/100\n",
    "    #print(X)\n",
    "# Como 95 gramos de soluto corresponden a 100 ml de solución (de 96%), \n",
    "# entonces 700 gramos de soluto correponden a Y (ml de solución de 70%):\n",
    "\n",
    "    Y = (X * 100)/96\n",
    "    #print(Y)\n",
    "# Volumen final (mL) de 1000 en este caso = Y solución de alcohol al 96% (mL) + Z solvente (mL agua):\n",
    "# solucion_final = solucion_ingresar + Solvente_2\n",
    "#Z = 1000  - Y\n",
    "    \n",
    "# Ejemplo: Si tengo 325 ml de alcohol de 96%, para cuánta solución me alcanza?  (325 de alcohol + 121 de agua y 446 solución final)\n",
    "# Si 737 mL de alcohol de 96% corresponde a 1000 de solución total, entonces 325 mL de alcohol corresponde a Sol\n",
    "\n",
    "    solucion_final = (solucion_ingresar * 1000) / Y\n",
    "    solvente_2 = solucion_final - solucion_ingresar # solucion_final(mL) es la suma de Solución alcohol 96% \n",
    "                              # (para formar sol alcohol al 70%, mL) + Solvente_2 (agua, mL)\n",
    "    \n",
    "    print(f\"Solución final: {round(solucion_final)} mL con {solucion_ingresar} mL de alcohol al 96% y {round(solvente_2)} mL de agua\")"
   ]
  },
  {
   "cell_type": "code",
   "execution_count": 51,
   "metadata": {},
   "outputs": [
    {
     "name": "stdout",
     "output_type": "stream",
     "text": [
      "Solución final: 446 mL con 325 mL de alcohol al 96% y 121 mL de agua\n"
     ]
    }
   ],
   "source": [
    "resultado = solucion(325, \"solucion_final\", \"solvente_2\")"
   ]
  },
  {
   "cell_type": "markdown",
   "metadata": {},
   "source": [
    "3) Solución al 70% a partir de alcohol de 99,9%: se redondea a 100% por problemas de tupla."
   ]
  },
  {
   "cell_type": "code",
   "execution_count": 64,
   "metadata": {},
   "outputs": [],
   "source": [
    "# Concentración porcentual:\n",
    "# Obtener una cantidad de solución a preparar, con cierta cantidad de alcohol al 100%\n",
    "\n",
    "def solucion(solucion_ingresar, solucion_final, solvente_2: int):\n",
    "\n",
    "# Alcohol de 100 grados para 1 litro (1000 ml) de solución al 70%:\n",
    "\n",
    "# Solución de 1000 ml corresponde al 100%, \n",
    "# por lo que X corresponde al 70% (X en gramos de soluto)\n",
    "\n",
    "    X = (1000 * 70)/100\n",
    "    #print(X)\n",
    "# Como 100 gramos de soluto corresponden a 100 ml de solución (de 100%), \n",
    "# entonces 700 gramos de soluto correponden a Y (ml de solución de 70%):\n",
    "\n",
    "    Y = (X * 100)/100\n",
    "    #print(Y)\n",
    "# Volumen final (mL) de 1000 en este caso = Y solución de alcohol al 100% (mL) + Z solvente (mL agua):\n",
    "# solucion_final = solucion_ingresar + Solvente_2\n",
    "#Z = 1000  - Y\n",
    "    \n",
    "# Ejemplo: Si tengo 325 ml de alcohol de 100%, para cuánta solución me alcanza?  (325 de alcohol + 139 de agua y 464 solución final)\n",
    "# Si 737 mL de alcohol de 100% corresponde a 1000 de solución total, entonces 325 mL de alcohol corresponde a Sol\n",
    "\n",
    "    solucion_final = (round(solucion_ingresar * 1000) / Y)\n",
    "    solvente_2 = (round(solucion_final - solucion_ingresar)) # solucion_final(mL) es la suma de Solución alcohol 100% \n",
    "                              # (para formar sol alcohol al 70%, mL) + Solvente_2 (agua, mL)\n",
    "    \n",
    "    print(f\"Solución final: {round(solucion_final)} mL con {solucion_ingresar} mL de alcohol al 100% y {round(solvente_2)} mL de agua\")"
   ]
  },
  {
   "cell_type": "code",
   "execution_count": 65,
   "metadata": {},
   "outputs": [
    {
     "name": "stdout",
     "output_type": "stream",
     "text": [
      "Solución final: 464 mL con 325 mL de alcohol al 100% y 139 mL de agua\n"
     ]
    }
   ],
   "source": [
    "resultado = solucion(325, \"solucion_final\", \"solvente_2\")"
   ]
  }
 ],
 "metadata": {
  "kernelspec": {
   "display_name": "base",
   "language": "python",
   "name": "python3"
  },
  "language_info": {
   "codemirror_mode": {
    "name": "ipython",
    "version": 3
   },
   "file_extension": ".py",
   "mimetype": "text/x-python",
   "name": "python",
   "nbconvert_exporter": "python",
   "pygments_lexer": "ipython3",
   "version": "3.11.5"
  }
 },
 "nbformat": 4,
 "nbformat_minor": 2
}
