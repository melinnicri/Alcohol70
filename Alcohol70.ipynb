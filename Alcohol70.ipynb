{
  "nbformat": 4,
  "nbformat_minor": 0,
  "metadata": {
    "colab": {
      "provenance": [],
      "authorship_tag": "ABX9TyOaHeciEOByNTcqDmOuciYO",
      "include_colab_link": true
    },
    "kernelspec": {
      "name": "python3",
      "display_name": "Python 3"
    },
    "language_info": {
      "name": "python"
    }
  },
  "cells": [
    {
      "cell_type": "markdown",
      "metadata": {
        "id": "view-in-github",
        "colab_type": "text"
      },
      "source": [
        "<a href=\"https://colab.research.google.com/github/melinnicri/Alcohol70/blob/main/Alcohol70.ipynb\" target=\"_parent\"><img src=\"https://colab.research.google.com/assets/colab-badge.svg\" alt=\"Open In Colab\"/></a>"
      ]
    },
    {
      "cell_type": "markdown",
      "source": [
        "Sacar la concentración porcentual de una solución de alcohol para desinfectar, no es tan simple, ya que hay que integrar\n",
        "la concentración en que se encuentra la solución original y eso corresponde al 100% (volumen/volumen).\n",
        "Podemos preparar una solución de alcohol al 70% a partir de alcohol al 95%, 96% y 99,9% (éste último lo dejaremos en 100%)."
      ],
      "metadata": {
        "id": "qIbI0ukgdpS-"
      }
    },
    {
      "cell_type": "code",
      "source": [
        "!pip install sympy"
      ],
      "metadata": {
        "colab": {
          "base_uri": "https://localhost:8080/"
        },
        "id": "Wn_Tm_ZYw1jT",
        "outputId": "e6464250-d56f-4b58-9d61-c0f90b512ef7"
      },
      "execution_count": 68,
      "outputs": [
        {
          "output_type": "stream",
          "name": "stdout",
          "text": [
            "Requirement already satisfied: sympy in /usr/local/lib/python3.10/dist-packages (1.12)\n",
            "Requirement already satisfied: mpmath>=0.19 in /usr/local/lib/python3.10/dist-packages (from sympy) (1.3.0)\n"
          ]
        }
      ]
    },
    {
      "cell_type": "code",
      "source": [
        "# Importar librerías\n",
        "from sympy import *\n",
        "import sympy as sym\n",
        "from collections import OrderedDict\n",
        "from __future__ import division"
      ],
      "metadata": {
        "id": "0ClZmNMquc-_"
      },
      "execution_count": 69,
      "outputs": []
    },
    {
      "cell_type": "code",
      "execution_count": 70,
      "metadata": {
        "id": "CFkL_fxPVG9g"
      },
      "outputs": [],
      "source": [
        "# Concentración porcentual:\n",
        "# Obtener una cantidad de solución a preparar, con cierta cantidad de alcohol al 95%\n",
        "\n",
        "def solucion(solucion_ingresar, solucion_final, solvente_2):\n",
        "\n",
        "# Alcohol de 95 grados para 1 litro (1000 ml) de solución al 70%:\n",
        "\n",
        "# Solución de 1000 ml corresponde al 100%,\n",
        "# por lo que X corresponde al 70% (X en gramos de soluto)\n",
        "\n",
        "    X = (1000 * 70)/100\n",
        "    #print(X)\n",
        "# Como 95 gramos de soluto corresponden a 100 ml de solución (de 95%),\n",
        "# entonces 700 gramos de soluto correponden a Y (ml de solución de 70%):\n",
        "\n",
        "    Y = (X * 100)/95\n",
        "    #print(Y)\n",
        "# Volumen final (mL) de 1000 en este caso = Y solución de alcohol al 95% (mL) + Z solvente (mL agua):\n",
        "# solucion_final = solucion_ingresar + Solvente_2\n",
        "#Z = 1000  - Y\n",
        "\n",
        "# Ejemplo: Si tengo 325 ml de alcohol de 95%, para cuánta solución me alcanza?  (325 de alcohol + 116 de agua y 441 solución final)\n",
        "# Si 737 mL de alcohol de 95% corresponde a 1000 de solución total, entonces 325 mL de alcohol corresponde a Sol\n",
        "\n",
        "    solucion_final = (solucion_ingresar * 1000) / Y\n",
        "    solvente_2 = solucion_final - solucion_ingresar # solucion_final(mL) es la suma de Solución alcohol 95%\n",
        "                              # (para formar sol alcohol al 70%, mL) + Solvente_2 (agua, mL)\n",
        "\n",
        "    print(f\"Solución final: {round(solucion_final)} mL con {solucion_ingresar} mL de alcohol al 95% y {round(solvente_2)} mL de agua\")"
      ]
    },
    {
      "cell_type": "code",
      "source": [
        "resultado = solucion(325, \"solucion_final\", \"solvente_2\")"
      ],
      "metadata": {
        "colab": {
          "base_uri": "https://localhost:8080/"
        },
        "id": "Q5uJljhGdzTe",
        "outputId": "5e74a4cc-d89c-4b59-fb69-386413683f26"
      },
      "execution_count": 72,
      "outputs": [
        {
          "output_type": "stream",
          "name": "stdout",
          "text": [
            "Solución final: 441 mL con 325 mL de alcohol al 95% y 116 mL de agua\n"
          ]
        }
      ]
    },
    {
      "cell_type": "markdown",
      "source": [
        "2) Solución al 70% a partir de alcohol de 96%:"
      ],
      "metadata": {
        "id": "EFgjywgagUbg"
      }
    },
    {
      "cell_type": "code",
      "source": [
        "# Concentración porcentual:\n",
        "# Obtener una cantidad de solución a preparar, con cierta cantidad de alcohol al 96%\n",
        "\n",
        "def solucion(solucion_ingresar, solucion_final, solvente_2):\n",
        "\n",
        "# Alcohol de 96 grados para 1 litro (1000 ml) de solución al 70%:\n",
        "\n",
        "# Solución de 1000 ml corresponde al 100%,\n",
        "# por lo que X corresponde al 70% (X en gramos de soluto)\n",
        "\n",
        "    X = (1000 * 70)/100\n",
        "    #print(X)\n",
        "# Como 95 gramos de soluto corresponden a 100 ml de solución (de 96%),\n",
        "# entonces 700 gramos de soluto correponden a Y (ml de solución de 70%):\n",
        "\n",
        "    Y = (X * 100)/96\n",
        "    #print(Y)\n",
        "# Volumen final (mL) de 1000 en este caso = Y solución de alcohol al 96% (mL) + Z solvente (mL agua):\n",
        "# solucion_final = solucion_ingresar + Solvente_2\n",
        "#Z = 1000  - Y\n",
        "\n",
        "# Ejemplo: Si tengo 325 ml de alcohol de 96%, para cuánta solución me alcanza?  (325 de alcohol + 121 de agua y 446 solución final)\n",
        "# Si 737 mL de alcohol de 96% corresponde a 1000 de solución total, entonces 325 mL de alcohol corresponde a Sol\n",
        "\n",
        "    solucion_final = (solucion_ingresar * 1000) / Y\n",
        "    solvente_2 = solucion_final - solucion_ingresar # solucion_final(mL) es la suma de Solución alcohol 96%\n",
        "                              # (para formar sol alcohol al 70%, mL) + Solvente_2 (agua, mL)\n",
        "\n",
        "    print(f\"Solución final: {round(solucion_final)} mL con {solucion_ingresar} mL de alcohol al 96% y {round(solvente_2)} mL de agua\")"
      ],
      "metadata": {
        "id": "nn42MHUugXy8"
      },
      "execution_count": 73,
      "outputs": []
    },
    {
      "cell_type": "code",
      "source": [
        "resultado = solucion(325, \"solucion_final\", \"solvente_2\")"
      ],
      "metadata": {
        "colab": {
          "base_uri": "https://localhost:8080/"
        },
        "id": "J35j-dF9gabY",
        "outputId": "c3b9b38f-77e6-4d71-a60a-c9d9a35e819d"
      },
      "execution_count": 74,
      "outputs": [
        {
          "output_type": "stream",
          "name": "stdout",
          "text": [
            "Solución final: 446 mL con 325 mL de alcohol al 96% y 121 mL de agua\n"
          ]
        }
      ]
    },
    {
      "cell_type": "markdown",
      "source": [
        "3) Solución al 70% a partir de alcohol de 99,9%: se redondea a 100% por problemas de tupla."
      ],
      "metadata": {
        "id": "Vtecw-pvihjj"
      }
    },
    {
      "cell_type": "code",
      "source": [
        "# Concentración porcentual:\n",
        "# Obtener una cantidad de solución a preparar, con cierta cantidad de alcohol al 100%\n",
        "\n",
        "def solucion(solucion_ingresar, solucion_final, solvente_2: int):\n",
        "\n",
        "# Alcohol de 100 grados para 1 litro (1000 ml) de solución al 70%:\n",
        "\n",
        "# Solución de 1000 ml corresponde al 100%,\n",
        "# por lo que X corresponde al 70% (X en gramos de soluto)\n",
        "\n",
        "    X = (1000 * 70)/100\n",
        "    #print(X)\n",
        "# Como 100 gramos de soluto corresponden a 100 ml de solución (de 100%),\n",
        "# entonces 700 gramos de soluto correponden a Y (ml de solución de 70%):\n",
        "\n",
        "    Y = (X * 100)/100\n",
        "    #print(Y)\n",
        "# Volumen final (mL) de 1000 en este caso = Y solución de alcohol al 100% (mL) + Z solvente (mL agua):\n",
        "# solucion_final = solucion_ingresar + Solvente_2\n",
        "#Z = 1000  - Y\n",
        "\n",
        "# Ejemplo: Si tengo 325 ml de alcohol de 100%, para cuánta solución me alcanza?  (325 de alcohol + 139 de agua y 464 solución final)\n",
        "# Si 737 mL de alcohol de 100% corresponde a 1000 de solución total, entonces 325 mL de alcohol corresponde a Sol\n",
        "\n",
        "    solucion_final = (round(solucion_ingresar * 1000) / Y)\n",
        "    solvente_2 = (round(solucion_final - solucion_ingresar)) # solucion_final(mL) es la suma de Solución alcohol 100%\n",
        "                              # (para formar sol alcohol al 70%, mL) + Solvente_2 (agua, mL)\n",
        "\n",
        "    print(f\"Solución final: {round(solucion_final)} mL con {solucion_ingresar} mL de alcohol al 100% y {round(solvente_2)} mL de agua\")"
      ],
      "metadata": {
        "id": "wWQmNEi7ii_U"
      },
      "execution_count": 77,
      "outputs": []
    },
    {
      "cell_type": "code",
      "source": [
        "resultado = solucion(325, \"solucion_final\", \"solvente_2\")"
      ],
      "metadata": {
        "colab": {
          "base_uri": "https://localhost:8080/"
        },
        "id": "XCa-RJEbi-lG",
        "outputId": "18617b76-d3e2-4644-b070-43b26421cc91"
      },
      "execution_count": 78,
      "outputs": [
        {
          "output_type": "stream",
          "name": "stdout",
          "text": [
            "Solución final: 464 mL con 325 mL de alcohol al 100% y 139 mL de agua\n"
          ]
        }
      ]
    }
  ]
}